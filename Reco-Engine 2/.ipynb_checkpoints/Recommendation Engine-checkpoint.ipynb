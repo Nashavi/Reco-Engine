{
 "cells": [
  {
   "cell_type": "code",
   "execution_count": 1,
   "metadata": {
    "collapsed": true
   },
   "outputs": [],
   "source": [
    "import pandas as pd\n",
    "import numpy as np\n",
    "import matrix_factorization_utilities"
   ]
  },
  {
   "cell_type": "code",
   "execution_count": 2,
   "metadata": {
    "collapsed": true
   },
   "outputs": [],
   "source": [
    "raw_training_dataset_df = pd.read_csv('movie_ratings_data_set_training.csv')\n",
    "raw_testing_dataset_df = pd.read_csv('movie_ratings_data_set_testing.csv')"
   ]
  },
  {
   "cell_type": "code",
   "execution_count": 3,
   "metadata": {},
   "outputs": [
    {
     "data": {
      "text/html": [
       "<div>\n",
       "<style>\n",
       "    .dataframe thead tr:only-child th {\n",
       "        text-align: right;\n",
       "    }\n",
       "\n",
       "    .dataframe thead th {\n",
       "        text-align: left;\n",
       "    }\n",
       "\n",
       "    .dataframe tbody tr th {\n",
       "        vertical-align: top;\n",
       "    }\n",
       "</style>\n",
       "<table border=\"1\" class=\"dataframe\">\n",
       "  <thead>\n",
       "    <tr style=\"text-align: right;\">\n",
       "      <th></th>\n",
       "      <th>user_id</th>\n",
       "      <th>movie_id</th>\n",
       "      <th>value</th>\n",
       "    </tr>\n",
       "  </thead>\n",
       "  <tbody>\n",
       "    <tr>\n",
       "      <th>0</th>\n",
       "      <td>97</td>\n",
       "      <td>30</td>\n",
       "      <td>5</td>\n",
       "    </tr>\n",
       "    <tr>\n",
       "      <th>1</th>\n",
       "      <td>31</td>\n",
       "      <td>9</td>\n",
       "      <td>5</td>\n",
       "    </tr>\n",
       "    <tr>\n",
       "      <th>2</th>\n",
       "      <td>73</td>\n",
       "      <td>32</td>\n",
       "      <td>3</td>\n",
       "    </tr>\n",
       "    <tr>\n",
       "      <th>3</th>\n",
       "      <td>31</td>\n",
       "      <td>3</td>\n",
       "      <td>5</td>\n",
       "    </tr>\n",
       "    <tr>\n",
       "      <th>4</th>\n",
       "      <td>73</td>\n",
       "      <td>20</td>\n",
       "      <td>2</td>\n",
       "    </tr>\n",
       "  </tbody>\n",
       "</table>\n",
       "</div>"
      ],
      "text/plain": [
       "   user_id  movie_id  value\n",
       "0       97        30      5\n",
       "1       31         9      5\n",
       "2       73        32      3\n",
       "3       31         3      5\n",
       "4       73        20      2"
      ]
     },
     "execution_count": 3,
     "metadata": {},
     "output_type": "execute_result"
    }
   ],
   "source": [
    "raw_training_dataset_df.head()"
   ]
  },
  {
   "cell_type": "code",
   "execution_count": 4,
   "metadata": {
    "collapsed": true
   },
   "outputs": [],
   "source": [
    "movies = pd.read_csv(\"movies.csv\",index_col= \"movie_id\")"
   ]
  },
  {
   "cell_type": "code",
   "execution_count": 5,
   "metadata": {},
   "outputs": [
    {
     "data": {
      "text/html": [
       "<div>\n",
       "<style>\n",
       "    .dataframe thead tr:only-child th {\n",
       "        text-align: right;\n",
       "    }\n",
       "\n",
       "    .dataframe thead th {\n",
       "        text-align: left;\n",
       "    }\n",
       "\n",
       "    .dataframe tbody tr th {\n",
       "        vertical-align: top;\n",
       "    }\n",
       "</style>\n",
       "<table border=\"1\" class=\"dataframe\">\n",
       "  <thead>\n",
       "    <tr style=\"text-align: right;\">\n",
       "      <th></th>\n",
       "      <th>title</th>\n",
       "      <th>genre</th>\n",
       "    </tr>\n",
       "    <tr>\n",
       "      <th>movie_id</th>\n",
       "      <th></th>\n",
       "      <th></th>\n",
       "    </tr>\n",
       "  </thead>\n",
       "  <tbody>\n",
       "    <tr>\n",
       "      <th>1</th>\n",
       "      <td>The Sheriff 1</td>\n",
       "      <td>crime drama, western</td>\n",
       "    </tr>\n",
       "    <tr>\n",
       "      <th>2</th>\n",
       "      <td>The Big City Judge 1</td>\n",
       "      <td>legal drama</td>\n",
       "    </tr>\n",
       "    <tr>\n",
       "      <th>3</th>\n",
       "      <td>The Sheriff 2</td>\n",
       "      <td>crime drama, western</td>\n",
       "    </tr>\n",
       "    <tr>\n",
       "      <th>4</th>\n",
       "      <td>Just a Regular Family</td>\n",
       "      <td>reality</td>\n",
       "    </tr>\n",
       "    <tr>\n",
       "      <th>5</th>\n",
       "      <td>The Big City Judge 2</td>\n",
       "      <td>legal drama</td>\n",
       "    </tr>\n",
       "  </tbody>\n",
       "</table>\n",
       "</div>"
      ],
      "text/plain": [
       "                          title                 genre\n",
       "movie_id                                             \n",
       "1                 The Sheriff 1  crime drama, western\n",
       "2          The Big City Judge 1           legal drama\n",
       "3                 The Sheriff 2  crime drama, western\n",
       "4         Just a Regular Family               reality\n",
       "5          The Big City Judge 2           legal drama"
      ]
     },
     "execution_count": 5,
     "metadata": {},
     "output_type": "execute_result"
    }
   ],
   "source": [
    "movies.head()"
   ]
  },
  {
   "cell_type": "code",
   "execution_count": 6,
   "metadata": {
    "collapsed": true
   },
   "outputs": [],
   "source": [
    "ratings_training_df = pd.pivot_table(raw_training_dataset_df, index='user_id', columns='movie_id', aggfunc=np.max)\n",
    "ratings_testing_df = pd.pivot_table(raw_testing_dataset_df, index='user_id', columns='movie_id', aggfunc=np.max)"
   ]
  },
  {
   "cell_type": "code",
   "execution_count": 7,
   "metadata": {},
   "outputs": [
    {
     "data": {
      "text/html": [
       "<div>\n",
       "<style>\n",
       "    .dataframe thead tr:only-child th {\n",
       "        text-align: right;\n",
       "    }\n",
       "\n",
       "    .dataframe thead th {\n",
       "        text-align: left;\n",
       "    }\n",
       "\n",
       "    .dataframe tbody tr th {\n",
       "        vertical-align: top;\n",
       "    }\n",
       "</style>\n",
       "<table border=\"1\" class=\"dataframe\">\n",
       "  <thead>\n",
       "    <tr>\n",
       "      <th></th>\n",
       "      <th colspan=\"21\" halign=\"left\">value</th>\n",
       "    </tr>\n",
       "    <tr>\n",
       "      <th>movie_id</th>\n",
       "      <th>1</th>\n",
       "      <th>2</th>\n",
       "      <th>3</th>\n",
       "      <th>4</th>\n",
       "      <th>5</th>\n",
       "      <th>6</th>\n",
       "      <th>7</th>\n",
       "      <th>8</th>\n",
       "      <th>9</th>\n",
       "      <th>10</th>\n",
       "      <th>...</th>\n",
       "      <th>25</th>\n",
       "      <th>26</th>\n",
       "      <th>27</th>\n",
       "      <th>28</th>\n",
       "      <th>29</th>\n",
       "      <th>30</th>\n",
       "      <th>31</th>\n",
       "      <th>32</th>\n",
       "      <th>33</th>\n",
       "      <th>34</th>\n",
       "    </tr>\n",
       "    <tr>\n",
       "      <th>user_id</th>\n",
       "      <th></th>\n",
       "      <th></th>\n",
       "      <th></th>\n",
       "      <th></th>\n",
       "      <th></th>\n",
       "      <th></th>\n",
       "      <th></th>\n",
       "      <th></th>\n",
       "      <th></th>\n",
       "      <th></th>\n",
       "      <th></th>\n",
       "      <th></th>\n",
       "      <th></th>\n",
       "      <th></th>\n",
       "      <th></th>\n",
       "      <th></th>\n",
       "      <th></th>\n",
       "      <th></th>\n",
       "      <th></th>\n",
       "      <th></th>\n",
       "      <th></th>\n",
       "    </tr>\n",
       "  </thead>\n",
       "  <tbody>\n",
       "    <tr>\n",
       "      <th>1</th>\n",
       "      <td>NaN</td>\n",
       "      <td>NaN</td>\n",
       "      <td>NaN</td>\n",
       "      <td>NaN</td>\n",
       "      <td>NaN</td>\n",
       "      <td>NaN</td>\n",
       "      <td>NaN</td>\n",
       "      <td>NaN</td>\n",
       "      <td>4.0</td>\n",
       "      <td>NaN</td>\n",
       "      <td>...</td>\n",
       "      <td>NaN</td>\n",
       "      <td>NaN</td>\n",
       "      <td>NaN</td>\n",
       "      <td>4.0</td>\n",
       "      <td>NaN</td>\n",
       "      <td>NaN</td>\n",
       "      <td>NaN</td>\n",
       "      <td>NaN</td>\n",
       "      <td>NaN</td>\n",
       "      <td>NaN</td>\n",
       "    </tr>\n",
       "    <tr>\n",
       "      <th>2</th>\n",
       "      <td>5.0</td>\n",
       "      <td>NaN</td>\n",
       "      <td>NaN</td>\n",
       "      <td>NaN</td>\n",
       "      <td>NaN</td>\n",
       "      <td>NaN</td>\n",
       "      <td>NaN</td>\n",
       "      <td>NaN</td>\n",
       "      <td>NaN</td>\n",
       "      <td>NaN</td>\n",
       "      <td>...</td>\n",
       "      <td>NaN</td>\n",
       "      <td>NaN</td>\n",
       "      <td>NaN</td>\n",
       "      <td>NaN</td>\n",
       "      <td>NaN</td>\n",
       "      <td>NaN</td>\n",
       "      <td>NaN</td>\n",
       "      <td>NaN</td>\n",
       "      <td>NaN</td>\n",
       "      <td>4.0</td>\n",
       "    </tr>\n",
       "    <tr>\n",
       "      <th>3</th>\n",
       "      <td>4.0</td>\n",
       "      <td>NaN</td>\n",
       "      <td>5.0</td>\n",
       "      <td>NaN</td>\n",
       "      <td>NaN</td>\n",
       "      <td>NaN</td>\n",
       "      <td>NaN</td>\n",
       "      <td>NaN</td>\n",
       "      <td>NaN</td>\n",
       "      <td>NaN</td>\n",
       "      <td>...</td>\n",
       "      <td>NaN</td>\n",
       "      <td>NaN</td>\n",
       "      <td>NaN</td>\n",
       "      <td>NaN</td>\n",
       "      <td>NaN</td>\n",
       "      <td>NaN</td>\n",
       "      <td>NaN</td>\n",
       "      <td>NaN</td>\n",
       "      <td>NaN</td>\n",
       "      <td>NaN</td>\n",
       "    </tr>\n",
       "    <tr>\n",
       "      <th>4</th>\n",
       "      <td>NaN</td>\n",
       "      <td>5.0</td>\n",
       "      <td>NaN</td>\n",
       "      <td>5.0</td>\n",
       "      <td>5.0</td>\n",
       "      <td>NaN</td>\n",
       "      <td>NaN</td>\n",
       "      <td>NaN</td>\n",
       "      <td>NaN</td>\n",
       "      <td>NaN</td>\n",
       "      <td>...</td>\n",
       "      <td>NaN</td>\n",
       "      <td>NaN</td>\n",
       "      <td>NaN</td>\n",
       "      <td>NaN</td>\n",
       "      <td>NaN</td>\n",
       "      <td>NaN</td>\n",
       "      <td>NaN</td>\n",
       "      <td>NaN</td>\n",
       "      <td>NaN</td>\n",
       "      <td>NaN</td>\n",
       "    </tr>\n",
       "    <tr>\n",
       "      <th>5</th>\n",
       "      <td>5.0</td>\n",
       "      <td>NaN</td>\n",
       "      <td>NaN</td>\n",
       "      <td>NaN</td>\n",
       "      <td>NaN</td>\n",
       "      <td>NaN</td>\n",
       "      <td>NaN</td>\n",
       "      <td>NaN</td>\n",
       "      <td>5.0</td>\n",
       "      <td>NaN</td>\n",
       "      <td>...</td>\n",
       "      <td>NaN</td>\n",
       "      <td>NaN</td>\n",
       "      <td>NaN</td>\n",
       "      <td>NaN</td>\n",
       "      <td>3.0</td>\n",
       "      <td>NaN</td>\n",
       "      <td>NaN</td>\n",
       "      <td>2.0</td>\n",
       "      <td>5.0</td>\n",
       "      <td>5.0</td>\n",
       "    </tr>\n",
       "  </tbody>\n",
       "</table>\n",
       "<p>5 rows × 34 columns</p>\n",
       "</div>"
      ],
      "text/plain": [
       "         value                                          ...                    \\\n",
       "movie_id    1    2    3    4    5   6   7   8    9   10 ...   25  26  27   28   \n",
       "user_id                                                 ...                     \n",
       "1          NaN  NaN  NaN  NaN  NaN NaN NaN NaN  4.0 NaN ...  NaN NaN NaN  4.0   \n",
       "2          5.0  NaN  NaN  NaN  NaN NaN NaN NaN  NaN NaN ...  NaN NaN NaN  NaN   \n",
       "3          4.0  NaN  5.0  NaN  NaN NaN NaN NaN  NaN NaN ...  NaN NaN NaN  NaN   \n",
       "4          NaN  5.0  NaN  5.0  5.0 NaN NaN NaN  NaN NaN ...  NaN NaN NaN  NaN   \n",
       "5          5.0  NaN  NaN  NaN  NaN NaN NaN NaN  5.0 NaN ...  NaN NaN NaN  NaN   \n",
       "\n",
       "                                      \n",
       "movie_id   29  30  31   32   33   34  \n",
       "user_id                               \n",
       "1         NaN NaN NaN  NaN  NaN  NaN  \n",
       "2         NaN NaN NaN  NaN  NaN  4.0  \n",
       "3         NaN NaN NaN  NaN  NaN  NaN  \n",
       "4         NaN NaN NaN  NaN  NaN  NaN  \n",
       "5         3.0 NaN NaN  2.0  5.0  5.0  \n",
       "\n",
       "[5 rows x 34 columns]"
      ]
     },
     "execution_count": 7,
     "metadata": {},
     "output_type": "execute_result"
    }
   ],
   "source": [
    "ratings_training_df.head()"
   ]
  },
  {
   "cell_type": "markdown",
   "metadata": {},
   "source": [
    "## Test the model and accuracy"
   ]
  },
  {
   "cell_type": "code",
   "execution_count": 8,
   "metadata": {},
   "outputs": [
    {
     "name": "stdout",
     "output_type": "stream",
     "text": [
      "Optimization terminated successfully.\n",
      "         Current function value: 315.538580\n",
      "         Iterations: 1062\n",
      "         Function evaluations: 1594\n",
      "         Gradient evaluations: 1594\n"
     ]
    }
   ],
   "source": [
    "U, M = matrix_factorization_utilities.low_rank_matrix_factorization(ratings_training_df.as_matrix(),\n",
    "                                                                    num_features=11,\n",
    "                                                                    regularization_amount=1.1)"
   ]
  },
  {
   "cell_type": "code",
   "execution_count": 9,
   "metadata": {
    "collapsed": true
   },
   "outputs": [],
   "source": [
    "predicted_ratings = np.matmul(U, M)"
   ]
  },
  {
   "cell_type": "code",
   "execution_count": 10,
   "metadata": {},
   "outputs": [
    {
     "name": "stdout",
     "output_type": "stream",
     "text": [
      "Training RMSE: 0.24952555662048573\n",
      "Testing RMSE: 1.2096517096071573\n"
     ]
    }
   ],
   "source": [
    "rmse_training = matrix_factorization_utilities.RMSE(ratings_training_df.as_matrix(),\n",
    "                                                    predicted_ratings)\n",
    "rmse_testing = matrix_factorization_utilities.RMSE(ratings_testing_df.as_matrix(),\n",
    "                                                   predicted_ratings)\n",
    "\n",
    "print(\"Training RMSE: {}\".format(rmse_training))\n",
    "print(\"Testing RMSE: {}\".format(rmse_testing))"
   ]
  },
  {
   "cell_type": "markdown",
   "metadata": {},
   "source": [
    "## Train on full data and recommend"
   ]
  },
  {
   "cell_type": "code",
   "execution_count": 11,
   "metadata": {},
   "outputs": [
    {
     "name": "stdout",
     "output_type": "stream",
     "text": [
      "Warning: Maximum number of iterations has been exceeded.\n",
      "         Current function value: 32.504358\n",
      "         Iterations: 3000\n",
      "         Function evaluations: 4484\n",
      "         Gradient evaluations: 4484\n"
     ]
    }
   ],
   "source": [
    "# Load user ratings\n",
    "raw_dataset_df = pd.read_csv('movie_ratings_data_set.csv')\n",
    "\n",
    "# Load movie titles\n",
    "movies_df = pd.read_csv('movies.csv', index_col='movie_id')\n",
    "\n",
    "# Convert the running list of user ratings into a matrix\n",
    "ratings_df = pd.pivot_table(raw_dataset_df, index='user_id',\n",
    "                            columns='movie_id',\n",
    "                            aggfunc=np.max)\n",
    "\n",
    "# Apply matrix factorization to find the latent features\n",
    "U, M = matrix_factorization_utilities.low_rank_matrix_factorization(ratings_df.as_matrix(),\n",
    "                                                                    num_features=15,\n",
    "                                                                    regularization_amount=0.1)\n",
    "\n",
    "# Find all predicted ratings by multiplying U and M matrices\n",
    "predicted_ratings = np.matmul(U, M)"
   ]
  },
  {
   "cell_type": "markdown",
   "metadata": {},
   "source": [
    "#### Find out a similar movie"
   ]
  },
  {
   "cell_type": "code",
   "execution_count": 12,
   "metadata": {
    "collapsed": true
   },
   "outputs": [],
   "source": [
    "# Swap the rows and columns of product_features just so it's easier to work with\n",
    "M = np.transpose(M)"
   ]
  },
  {
   "cell_type": "code",
   "execution_count": 13,
   "metadata": {},
   "outputs": [
    {
     "name": "stdout",
     "output_type": "stream",
     "text": [
      "We are finding movies similar to this movie:\n",
      "Movie title: The Big City Judge 2\n",
      "Genre: legal drama\n"
     ]
    }
   ],
   "source": [
    "# Choose a movie to find similar movies to. Let's find movies similar to movie #5:\n",
    "movie_id = 5\n",
    "\n",
    "# Get movie #1's name and genre\n",
    "movie_information = movies_df.loc[movie_id]\n",
    "\n",
    "print(\"We are finding movies similar to this movie:\")\n",
    "print(\"Movie title: {}\".format(movie_information.title))\n",
    "print(\"Genre: {}\".format(movie_information.genre))"
   ]
  },
  {
   "cell_type": "code",
   "execution_count": 14,
   "metadata": {},
   "outputs": [
    {
     "name": "stdout",
     "output_type": "stream",
     "text": [
      "The attributes for this movie are:\n",
      "[ 1.01265846 -0.84600746 -0.75000191  0.63657191 -0.97930488 -1.67208911\n",
      " -0.95850372  0.28101059 -0.30078403 -0.05226875 -0.10147958 -0.23882663\n",
      " -0.03060674 -0.83667771  1.07977951]\n"
     ]
    }
   ],
   "source": [
    "# Get the features for movie #1 we found via matrix factorization\n",
    "current_movie_features = M[movie_id - 1]\n",
    "\n",
    "print(\"The attributes for this movie are:\")\n",
    "print(current_movie_features)"
   ]
  },
  {
   "cell_type": "code",
   "execution_count": 15,
   "metadata": {},
   "outputs": [
    {
     "name": "stdout",
     "output_type": "stream",
     "text": [
      "The five most similar movies are:\n",
      "                             title  difference_score\n",
      "movie_id                                            \n",
      "5             The Big City Judge 2          0.000000\n",
      "10         Surrounded by Zombies 1          2.774825\n",
      "8         Sci-Fi Murder Detectives          3.496417\n",
      "9                      Biker Gangs          3.523295\n",
      "3                    The Sheriff 2          4.038590\n"
     ]
    }
   ],
   "source": [
    "# The main logic for finding similar movies:\n",
    "\n",
    "# 1. Subtract the current movie's features from every other movie's features\n",
    "difference = M - current_movie_features\n",
    "\n",
    "# 2. Take the absolute value of that difference (so all numbers are positive)\n",
    "absolute_difference = np.abs(difference)\n",
    "\n",
    "# 3. Each movie has 15 features. Sum those 15 features to get a total 'difference score' for each movie\n",
    "total_difference = np.sum(absolute_difference, axis=1)\n",
    "\n",
    "# 4. Create a new column in the movie list with the difference score for each movie\n",
    "movies['difference_score'] = total_difference\n",
    "\n",
    "# 5. Sort the movie list by difference score, from least different to most different\n",
    "sorted_movie_list = movies.sort_values('difference_score')\n",
    "\n",
    "# 6. Print the result, showing the 5 most similar movies to movie_id #1\n",
    "print(\"The five most similar movies are:\")\n",
    "print(sorted_movie_list[['title', 'difference_score']][0:5])"
   ]
  },
  {
   "cell_type": "markdown",
   "metadata": {},
   "source": [
    "#### Recommend for a given user"
   ]
  },
  {
   "cell_type": "code",
   "execution_count": 16,
   "metadata": {},
   "outputs": [
    {
     "name": "stdout",
     "output_type": "stream",
     "text": [
      "Enter a user_id to get recommendations (Between 1 and 100):\n",
      "23\n"
     ]
    }
   ],
   "source": [
    "print(\"Enter a user_id to get recommendations (Between 1 and 100):\")\n",
    "user_id_to_search = int(input())"
   ]
  },
  {
   "cell_type": "code",
   "execution_count": 17,
   "metadata": {},
   "outputs": [
    {
     "name": "stdout",
     "output_type": "stream",
     "text": [
      "Movies previously reviewed by user_id 23:\n",
      "                     title                      genre  value\n",
      "154  The Serious Detective            detective drama      5\n",
      "155           Sports Nerds                     comedy      3\n",
      "156      Behind the Scenes               comedy-drama      4\n",
      "157     Post-Apocalyptia 1  sci-fi, thriller, mystery      4\n",
      "158         The Spy Family                  spy drama      5\n",
      "159  My Complicated Family               comedy-drama      5\n",
      "160   The Big City Judge 1                legal drama      4\n",
      "161           Drugs & Guns                crime drama      4\n"
     ]
    }
   ],
   "source": [
    "print(\"Movies previously reviewed by user_id {}:\".format(user_id_to_search))\n",
    "\n",
    "reviewed_movies_df = raw_dataset_df[raw_dataset_df['user_id'] == user_id_to_search]\n",
    "reviewed_movies_df = reviewed_movies_df.join(movies_df, on='movie_id')\n",
    "\n",
    "print(reviewed_movies_df[['title', 'genre', 'value']])"
   ]
  },
  {
   "cell_type": "code",
   "execution_count": 18,
   "metadata": {},
   "outputs": [
    {
     "name": "stdout",
     "output_type": "stream",
     "text": [
      "Movies we will recommend:\n",
      "                              title                     genre    rating\n",
      "movie_id                                                               \n",
      "13                    The Sheriff 3      crime drama, western  4.847849\n",
      "21                  Political Gaffs  comedy, political satire  4.463688\n",
      "19        Fake News about Fake News            satire, comedy  4.334878\n",
      "20                       Buy My App                    comedy  4.239815\n",
      "6                 Attack on Earth 1            sci-fi, action  4.152353\n"
     ]
    }
   ],
   "source": [
    "print(\"Movies we will recommend:\")\n",
    "\n",
    "user_ratings = predicted_ratings[user_id_to_search - 1]\n",
    "movies_df['rating'] = user_ratings\n",
    "\n",
    "already_reviewed = reviewed_movies_df['movie_id']\n",
    "recommended_df = movies_df[movies_df.index.isin(already_reviewed) == False]\n",
    "recommended_df = recommended_df.sort_values(by=['rating'], ascending=False)\n",
    "\n",
    "print(recommended_df[['title', 'genre', 'rating']].head(5))"
   ]
  }
 ],
 "metadata": {
  "kernelspec": {
   "display_name": "Python 3",
   "language": "python",
   "name": "python3"
  },
  "language_info": {
   "codemirror_mode": {
    "name": "ipython",
    "version": 3
   },
   "file_extension": ".py",
   "mimetype": "text/x-python",
   "name": "python",
   "nbconvert_exporter": "python",
   "pygments_lexer": "ipython3",
   "version": "3.6.1"
  }
 },
 "nbformat": 4,
 "nbformat_minor": 2
}
